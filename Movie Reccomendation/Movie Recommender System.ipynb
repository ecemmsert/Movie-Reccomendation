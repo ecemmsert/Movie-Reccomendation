{
 "cells": [
  {
   "cell_type": "markdown",
   "id": "53f151f4",
   "metadata": {},
   "source": [
    "Our goal is  to create movie recommendation system"
   ]
  },
  {
   "cell_type": "markdown",
   "id": "39da64a7",
   "metadata": {},
   "source": [
    "importing libraries and downloading the data"
   ]
  },
  {
   "cell_type": "code",
   "execution_count": 78,
   "id": "39676a7a",
   "metadata": {},
   "outputs": [],
   "source": [
    "import numpy as np\n",
    "import pandas as pd\n",
    "import matplotlib.pyplot as plt\n",
    "import seaborn as sns\n",
    "sns.set_style('white')\n",
    "%matplotlib inline"
   ]
  },
  {
   "cell_type": "code",
   "execution_count": 79,
   "id": "bb1f64ee",
   "metadata": {},
   "outputs": [],
   "source": [
    "movie_rating= pd.read_csv('movie.data', sep='\\t',names=['user_id', 'item_id', 'rating', 'timestamp'])\n",
    "movie_titles = pd.read_csv(\"Movie_Id_Titles\")"
   ]
  },
  {
   "cell_type": "code",
   "execution_count": 9,
   "id": "b8138b69",
   "metadata": {},
   "outputs": [
    {
     "data": {
      "text/html": [
       "<div>\n",
       "<style scoped>\n",
       "    .dataframe tbody tr th:only-of-type {\n",
       "        vertical-align: middle;\n",
       "    }\n",
       "\n",
       "    .dataframe tbody tr th {\n",
       "        vertical-align: top;\n",
       "    }\n",
       "\n",
       "    .dataframe thead th {\n",
       "        text-align: right;\n",
       "    }\n",
       "</style>\n",
       "<table border=\"1\" class=\"dataframe\">\n",
       "  <thead>\n",
       "    <tr style=\"text-align: right;\">\n",
       "      <th></th>\n",
       "      <th>user_id</th>\n",
       "      <th>item_id</th>\n",
       "      <th>rating</th>\n",
       "      <th>timestamp</th>\n",
       "    </tr>\n",
       "  </thead>\n",
       "  <tbody>\n",
       "    <tr>\n",
       "      <th>0</th>\n",
       "      <td>0</td>\n",
       "      <td>50</td>\n",
       "      <td>5</td>\n",
       "      <td>881250949</td>\n",
       "    </tr>\n",
       "    <tr>\n",
       "      <th>1</th>\n",
       "      <td>0</td>\n",
       "      <td>172</td>\n",
       "      <td>5</td>\n",
       "      <td>881250949</td>\n",
       "    </tr>\n",
       "    <tr>\n",
       "      <th>2</th>\n",
       "      <td>0</td>\n",
       "      <td>133</td>\n",
       "      <td>1</td>\n",
       "      <td>881250949</td>\n",
       "    </tr>\n",
       "    <tr>\n",
       "      <th>3</th>\n",
       "      <td>196</td>\n",
       "      <td>242</td>\n",
       "      <td>3</td>\n",
       "      <td>881250949</td>\n",
       "    </tr>\n",
       "    <tr>\n",
       "      <th>4</th>\n",
       "      <td>186</td>\n",
       "      <td>302</td>\n",
       "      <td>3</td>\n",
       "      <td>891717742</td>\n",
       "    </tr>\n",
       "  </tbody>\n",
       "</table>\n",
       "</div>"
      ],
      "text/plain": [
       "   user_id  item_id  rating  timestamp\n",
       "0        0       50       5  881250949\n",
       "1        0      172       5  881250949\n",
       "2        0      133       1  881250949\n",
       "3      196      242       3  881250949\n",
       "4      186      302       3  891717742"
      ]
     },
     "execution_count": 9,
     "metadata": {},
     "output_type": "execute_result"
    }
   ],
   "source": [
    "movie_rating.head()"
   ]
  },
  {
   "cell_type": "code",
   "execution_count": 10,
   "id": "fde67db1",
   "metadata": {},
   "outputs": [
    {
     "data": {
      "text/html": [
       "<div>\n",
       "<style scoped>\n",
       "    .dataframe tbody tr th:only-of-type {\n",
       "        vertical-align: middle;\n",
       "    }\n",
       "\n",
       "    .dataframe tbody tr th {\n",
       "        vertical-align: top;\n",
       "    }\n",
       "\n",
       "    .dataframe thead th {\n",
       "        text-align: right;\n",
       "    }\n",
       "</style>\n",
       "<table border=\"1\" class=\"dataframe\">\n",
       "  <thead>\n",
       "    <tr style=\"text-align: right;\">\n",
       "      <th></th>\n",
       "      <th>item_id</th>\n",
       "      <th>title</th>\n",
       "    </tr>\n",
       "  </thead>\n",
       "  <tbody>\n",
       "    <tr>\n",
       "      <th>0</th>\n",
       "      <td>1</td>\n",
       "      <td>Toy Story (1995)</td>\n",
       "    </tr>\n",
       "    <tr>\n",
       "      <th>1</th>\n",
       "      <td>2</td>\n",
       "      <td>GoldenEye (1995)</td>\n",
       "    </tr>\n",
       "    <tr>\n",
       "      <th>2</th>\n",
       "      <td>3</td>\n",
       "      <td>Four Rooms (1995)</td>\n",
       "    </tr>\n",
       "    <tr>\n",
       "      <th>3</th>\n",
       "      <td>4</td>\n",
       "      <td>Get Shorty (1995)</td>\n",
       "    </tr>\n",
       "    <tr>\n",
       "      <th>4</th>\n",
       "      <td>5</td>\n",
       "      <td>Copycat (1995)</td>\n",
       "    </tr>\n",
       "  </tbody>\n",
       "</table>\n",
       "</div>"
      ],
      "text/plain": [
       "   item_id              title\n",
       "0        1   Toy Story (1995)\n",
       "1        2   GoldenEye (1995)\n",
       "2        3  Four Rooms (1995)\n",
       "3        4  Get Shorty (1995)\n",
       "4        5     Copycat (1995)"
      ]
     },
     "execution_count": 10,
     "metadata": {},
     "output_type": "execute_result"
    }
   ],
   "source": [
    "movie_titles.head()"
   ]
  },
  {
   "cell_type": "code",
   "execution_count": 80,
   "id": "e5325173",
   "metadata": {},
   "outputs": [
    {
     "data": {
      "text/html": [
       "<div>\n",
       "<style scoped>\n",
       "    .dataframe tbody tr th:only-of-type {\n",
       "        vertical-align: middle;\n",
       "    }\n",
       "\n",
       "    .dataframe tbody tr th {\n",
       "        vertical-align: top;\n",
       "    }\n",
       "\n",
       "    .dataframe thead th {\n",
       "        text-align: right;\n",
       "    }\n",
       "</style>\n",
       "<table border=\"1\" class=\"dataframe\">\n",
       "  <thead>\n",
       "    <tr style=\"text-align: right;\">\n",
       "      <th></th>\n",
       "      <th>user_id</th>\n",
       "      <th>item_id</th>\n",
       "      <th>rating</th>\n",
       "      <th>timestamp</th>\n",
       "      <th>title</th>\n",
       "    </tr>\n",
       "  </thead>\n",
       "  <tbody>\n",
       "    <tr>\n",
       "      <th>0</th>\n",
       "      <td>0</td>\n",
       "      <td>50</td>\n",
       "      <td>5</td>\n",
       "      <td>881250949</td>\n",
       "      <td>Star Wars (1977)</td>\n",
       "    </tr>\n",
       "    <tr>\n",
       "      <th>1</th>\n",
       "      <td>290</td>\n",
       "      <td>50</td>\n",
       "      <td>5</td>\n",
       "      <td>880473582</td>\n",
       "      <td>Star Wars (1977)</td>\n",
       "    </tr>\n",
       "    <tr>\n",
       "      <th>2</th>\n",
       "      <td>79</td>\n",
       "      <td>50</td>\n",
       "      <td>4</td>\n",
       "      <td>891271545</td>\n",
       "      <td>Star Wars (1977)</td>\n",
       "    </tr>\n",
       "    <tr>\n",
       "      <th>3</th>\n",
       "      <td>2</td>\n",
       "      <td>50</td>\n",
       "      <td>5</td>\n",
       "      <td>888552084</td>\n",
       "      <td>Star Wars (1977)</td>\n",
       "    </tr>\n",
       "    <tr>\n",
       "      <th>4</th>\n",
       "      <td>8</td>\n",
       "      <td>50</td>\n",
       "      <td>5</td>\n",
       "      <td>879362124</td>\n",
       "      <td>Star Wars (1977)</td>\n",
       "    </tr>\n",
       "  </tbody>\n",
       "</table>\n",
       "</div>"
      ],
      "text/plain": [
       "   user_id  item_id  rating  timestamp             title\n",
       "0        0       50       5  881250949  Star Wars (1977)\n",
       "1      290       50       5  880473582  Star Wars (1977)\n",
       "2       79       50       4  891271545  Star Wars (1977)\n",
       "3        2       50       5  888552084  Star Wars (1977)\n",
       "4        8       50       5  879362124  Star Wars (1977)"
      ]
     },
     "execution_count": 80,
     "metadata": {},
     "output_type": "execute_result"
    }
   ],
   "source": [
    "movies= pd.merge(movie_rating,movie_titles,on='item_id')\n",
    "movies.head()"
   ]
  },
  {
   "cell_type": "code",
   "execution_count": 98,
   "id": "d407d7de",
   "metadata": {},
   "outputs": [
    {
     "data": {
      "text/plain": [
       "944"
      ]
     },
     "execution_count": 98,
     "metadata": {},
     "output_type": "execute_result"
    }
   ],
   "source": [
    "movies['user_id'].nunique()  #number of unique users"
   ]
  },
  {
   "cell_type": "code",
   "execution_count": 99,
   "id": "e44949c0",
   "metadata": {},
   "outputs": [
    {
     "data": {
      "text/plain": [
       "1682"
      ]
     },
     "execution_count": 99,
     "metadata": {},
     "output_type": "execute_result"
    }
   ],
   "source": [
    "movies['item_id'].nunique() #number of unique items"
   ]
  },
  {
   "cell_type": "code",
   "execution_count": 22,
   "id": "267f79c5",
   "metadata": {},
   "outputs": [
    {
     "data": {
      "text/plain": [
       "<AxesSubplot:>"
      ]
     },
     "execution_count": 22,
     "metadata": {},
     "output_type": "execute_result"
    },
    {
     "data": {
      "image/png": "[encoded data removed]",
      "text/plain": [
       "<Figure size 432x288 with 1 Axes>"
      ]
     },
     "metadata": {
      "needs_background": "light"
     },
     "output_type": "display_data"
    }
   ],
   "source": [
    "movies['rating'].hist()"
   ]
  },
  {
   "cell_type": "markdown",
   "id": "716f36c9",
   "metadata": {},
   "source": [
    "determining average ratings movies get"
   ]
  },
  {
   "cell_type": "code",
   "execution_count": 100,
   "id": "4ca1351e",
   "metadata": {},
   "outputs": [],
   "source": [
    "avg_rate=movies.groupby('title')['rating'].mean()"
   ]
  },
  {
   "cell_type": "code",
   "execution_count": 101,
   "id": "54785375",
   "metadata": {},
   "outputs": [],
   "source": [
    "movies= pd.merge(movies,avg_rate,on='title')"
   ]
  },
  {
   "cell_type": "code",
   "execution_count": 102,
   "id": "4700853b",
   "metadata": {},
   "outputs": [],
   "source": [
    "movies.rename(columns={'rating_x':'rating','rating_y':'avg_rate'},inplace=True)"
   ]
  },
  {
   "cell_type": "code",
   "execution_count": 70,
   "id": "8ef6b3fa",
   "metadata": {},
   "outputs": [
    {
     "data": {
      "text/plain": [
       "<AxesSubplot:>"
      ]
     },
     "execution_count": 70,
     "metadata": {},
     "output_type": "execute_result"
    },
    {
     "data": {
      "image/png": "[encoded data removed]",
      "text/plain": [
       "<Figure size 432x288 with 1 Axes>"
      ]
     },
     "metadata": {
      "needs_background": "light"
     },
     "output_type": "display_data"
    }
   ],
   "source": [
    "avg_rate.hist(bins=30)"
   ]
  },
  {
   "cell_type": "markdown",
   "id": "4053ed53",
   "metadata": {},
   "source": [
    "determining number of ratings movies get"
   ]
  },
  {
   "cell_type": "code",
   "execution_count": 103,
   "id": "95bdaa8d",
   "metadata": {},
   "outputs": [],
   "source": [
    "rate_count=movies.groupby('title')['rating'].count()"
   ]
  },
  {
   "cell_type": "code",
   "execution_count": 104,
   "id": "d5353ff1",
   "metadata": {},
   "outputs": [],
   "source": [
    "movies= pd.merge(movies,rate_count,on='title')"
   ]
  },
  {
   "cell_type": "code",
   "execution_count": 105,
   "id": "f867faef",
   "metadata": {},
   "outputs": [],
   "source": [
    "movies.rename(columns={'rating_x':'rating','rating_y':'rate_count'},inplace=True)"
   ]
  },
  {
   "cell_type": "code",
   "execution_count": 71,
   "id": "91cb71c4",
   "metadata": {},
   "outputs": [
    {
     "data": {
      "text/plain": [
       "<AxesSubplot:>"
      ]
     },
     "execution_count": 71,
     "metadata": {},
     "output_type": "execute_result"
    },
    {
     "data": {
      "image/png": "[encoded data removed]",
      "text/plain": [
       "<Figure size 432x288 with 1 Axes>"
      ]
     },
     "metadata": {
      "needs_background": "light"
     },
     "output_type": "display_data"
    }
   ],
   "source": [
    "rate_count.hist(bins=50)"
   ]
  },
  {
   "cell_type": "code",
   "execution_count": 107,
   "id": "02e56159",
   "metadata": {},
   "outputs": [
    {
     "data": {
      "text/plain": [
       "<seaborn.axisgrid.JointGrid at 0x19e8b9bd6d0>"
      ]
     },
     "execution_count": 107,
     "metadata": {},
     "output_type": "execute_result"
    },
    {
     "data": {
      "image/png": "[encoded data removed]",
      "text/plain": [
       "<Figure size 432x432 with 3 Axes>"
      ]
     },
     "metadata": {
      "needs_background": "light"
     },
     "output_type": "display_data"
    }
   ],
   "source": [
    "sns.jointplot(x='avg_rate',y='rate_count',data=movies,alpha=0.5)"
   ]
  },
  {
   "cell_type": "code",
   "execution_count": 106,
   "id": "8b86e8d4",
   "metadata": {},
   "outputs": [
    {
     "data": {
      "text/html": [
       "<div>\n",
       "<style scoped>\n",
       "    .dataframe tbody tr th:only-of-type {\n",
       "        vertical-align: middle;\n",
       "    }\n",
       "\n",
       "    .dataframe tbody tr th {\n",
       "        vertical-align: top;\n",
       "    }\n",
       "\n",
       "    .dataframe thead th {\n",
       "        text-align: right;\n",
       "    }\n",
       "</style>\n",
       "<table border=\"1\" class=\"dataframe\">\n",
       "  <thead>\n",
       "    <tr style=\"text-align: right;\">\n",
       "      <th></th>\n",
       "      <th>user_id</th>\n",
       "      <th>item_id</th>\n",
       "      <th>rating</th>\n",
       "      <th>timestamp</th>\n",
       "      <th>title</th>\n",
       "      <th>avg_rate</th>\n",
       "      <th>rate_count</th>\n",
       "    </tr>\n",
       "  </thead>\n",
       "  <tbody>\n",
       "    <tr>\n",
       "      <th>0</th>\n",
       "      <td>0</td>\n",
       "      <td>50</td>\n",
       "      <td>5</td>\n",
       "      <td>881250949</td>\n",
       "      <td>Star Wars (1977)</td>\n",
       "      <td>4.359589</td>\n",
       "      <td>584</td>\n",
       "    </tr>\n",
       "    <tr>\n",
       "      <th>1</th>\n",
       "      <td>290</td>\n",
       "      <td>50</td>\n",
       "      <td>5</td>\n",
       "      <td>880473582</td>\n",
       "      <td>Star Wars (1977)</td>\n",
       "      <td>4.359589</td>\n",
       "      <td>584</td>\n",
       "    </tr>\n",
       "    <tr>\n",
       "      <th>2</th>\n",
       "      <td>79</td>\n",
       "      <td>50</td>\n",
       "      <td>4</td>\n",
       "      <td>891271545</td>\n",
       "      <td>Star Wars (1977)</td>\n",
       "      <td>4.359589</td>\n",
       "      <td>584</td>\n",
       "    </tr>\n",
       "    <tr>\n",
       "      <th>3</th>\n",
       "      <td>2</td>\n",
       "      <td>50</td>\n",
       "      <td>5</td>\n",
       "      <td>888552084</td>\n",
       "      <td>Star Wars (1977)</td>\n",
       "      <td>4.359589</td>\n",
       "      <td>584</td>\n",
       "    </tr>\n",
       "    <tr>\n",
       "      <th>4</th>\n",
       "      <td>8</td>\n",
       "      <td>50</td>\n",
       "      <td>5</td>\n",
       "      <td>879362124</td>\n",
       "      <td>Star Wars (1977)</td>\n",
       "      <td>4.359589</td>\n",
       "      <td>584</td>\n",
       "    </tr>\n",
       "  </tbody>\n",
       "</table>\n",
       "</div>"
      ],
      "text/plain": [
       "   user_id  item_id  rating  timestamp             title  avg_rate  rate_count\n",
       "0        0       50       5  881250949  Star Wars (1977)  4.359589         584\n",
       "1      290       50       5  880473582  Star Wars (1977)  4.359589         584\n",
       "2       79       50       4  891271545  Star Wars (1977)  4.359589         584\n",
       "3        2       50       5  888552084  Star Wars (1977)  4.359589         584\n",
       "4        8       50       5  879362124  Star Wars (1977)  4.359589         584"
      ]
     },
     "execution_count": 106,
     "metadata": {},
     "output_type": "execute_result"
    }
   ],
   "source": [
    "movies.head()"
   ]
  },
  {
   "cell_type": "markdown",
   "id": "a238e264",
   "metadata": {},
   "source": [
    "### Memory Based Collabortive Filtering\n"
   ]
  },
  {
   "cell_type": "markdown",
   "id": "6429cd84",
   "metadata": {},
   "source": [
    "Creating pivot tables"
   ]
  },
  {
   "cell_type": "code",
   "execution_count": 148,
   "id": "90a05970",
   "metadata": {},
   "outputs": [],
   "source": [
    "user_item=pd.pivot_table(movies, values='rating', index='user_id', columns='title')\n",
    "user_item.fillna(0,inplace=True)"
   ]
  },
  {
   "cell_type": "code",
   "execution_count": 149,
   "id": "811f75a4",
   "metadata": {},
   "outputs": [
    {
     "data": {
      "text/html": [
       "<div>\n",
       "<style scoped>\n",
       "    .dataframe tbody tr th:only-of-type {\n",
       "        vertical-align: middle;\n",
       "    }\n",
       "\n",
       "    .dataframe tbody tr th {\n",
       "        vertical-align: top;\n",
       "    }\n",
       "\n",
       "    .dataframe thead th {\n",
       "        text-align: right;\n",
       "    }\n",
       "</style>\n",
       "<table border=\"1\" class=\"dataframe\">\n",
       "  <thead>\n",
       "    <tr style=\"text-align: right;\">\n",
       "      <th>title</th>\n",
       "      <th>'Til There Was You (1997)</th>\n",
       "      <th>1-900 (1994)</th>\n",
       "      <th>101 Dalmatians (1996)</th>\n",
       "      <th>12 Angry Men (1957)</th>\n",
       "      <th>187 (1997)</th>\n",
       "      <th>2 Days in the Valley (1996)</th>\n",
       "      <th>20,000 Leagues Under the Sea (1954)</th>\n",
       "      <th>2001: A Space Odyssey (1968)</th>\n",
       "      <th>3 Ninjas: High Noon At Mega Mountain (1998)</th>\n",
       "      <th>39 Steps, The (1935)</th>\n",
       "      <th>...</th>\n",
       "      <th>Yankee Zulu (1994)</th>\n",
       "      <th>Year of the Horse (1997)</th>\n",
       "      <th>You So Crazy (1994)</th>\n",
       "      <th>Young Frankenstein (1974)</th>\n",
       "      <th>Young Guns (1988)</th>\n",
       "      <th>Young Guns II (1990)</th>\n",
       "      <th>Young Poisoner's Handbook, The (1995)</th>\n",
       "      <th>Zeus and Roxanne (1997)</th>\n",
       "      <th>unknown</th>\n",
       "      <th>Á köldum klaka (Cold Fever) (1994)</th>\n",
       "    </tr>\n",
       "    <tr>\n",
       "      <th>user_id</th>\n",
       "      <th></th>\n",
       "      <th></th>\n",
       "      <th></th>\n",
       "      <th></th>\n",
       "      <th></th>\n",
       "      <th></th>\n",
       "      <th></th>\n",
       "      <th></th>\n",
       "      <th></th>\n",
       "      <th></th>\n",
       "      <th></th>\n",
       "      <th></th>\n",
       "      <th></th>\n",
       "      <th></th>\n",
       "      <th></th>\n",
       "      <th></th>\n",
       "      <th></th>\n",
       "      <th></th>\n",
       "      <th></th>\n",
       "      <th></th>\n",
       "      <th></th>\n",
       "    </tr>\n",
       "  </thead>\n",
       "  <tbody>\n",
       "    <tr>\n",
       "      <th>0</th>\n",
       "      <td>0.0</td>\n",
       "      <td>0.0</td>\n",
       "      <td>0.0</td>\n",
       "      <td>0.0</td>\n",
       "      <td>0.0</td>\n",
       "      <td>0.0</td>\n",
       "      <td>0.0</td>\n",
       "      <td>0.0</td>\n",
       "      <td>0.0</td>\n",
       "      <td>0.0</td>\n",
       "      <td>...</td>\n",
       "      <td>0.0</td>\n",
       "      <td>0.0</td>\n",
       "      <td>0.0</td>\n",
       "      <td>0.0</td>\n",
       "      <td>0.0</td>\n",
       "      <td>0.0</td>\n",
       "      <td>0.0</td>\n",
       "      <td>0.0</td>\n",
       "      <td>0.0</td>\n",
       "      <td>0.0</td>\n",
       "    </tr>\n",
       "    <tr>\n",
       "      <th>1</th>\n",
       "      <td>0.0</td>\n",
       "      <td>0.0</td>\n",
       "      <td>2.0</td>\n",
       "      <td>5.0</td>\n",
       "      <td>0.0</td>\n",
       "      <td>0.0</td>\n",
       "      <td>3.0</td>\n",
       "      <td>4.0</td>\n",
       "      <td>0.0</td>\n",
       "      <td>0.0</td>\n",
       "      <td>...</td>\n",
       "      <td>0.0</td>\n",
       "      <td>0.0</td>\n",
       "      <td>0.0</td>\n",
       "      <td>5.0</td>\n",
       "      <td>3.0</td>\n",
       "      <td>0.0</td>\n",
       "      <td>0.0</td>\n",
       "      <td>0.0</td>\n",
       "      <td>4.0</td>\n",
       "      <td>0.0</td>\n",
       "    </tr>\n",
       "    <tr>\n",
       "      <th>2</th>\n",
       "      <td>0.0</td>\n",
       "      <td>0.0</td>\n",
       "      <td>0.0</td>\n",
       "      <td>0.0</td>\n",
       "      <td>0.0</td>\n",
       "      <td>0.0</td>\n",
       "      <td>0.0</td>\n",
       "      <td>0.0</td>\n",
       "      <td>1.0</td>\n",
       "      <td>0.0</td>\n",
       "      <td>...</td>\n",
       "      <td>0.0</td>\n",
       "      <td>0.0</td>\n",
       "      <td>0.0</td>\n",
       "      <td>0.0</td>\n",
       "      <td>0.0</td>\n",
       "      <td>0.0</td>\n",
       "      <td>0.0</td>\n",
       "      <td>0.0</td>\n",
       "      <td>0.0</td>\n",
       "      <td>0.0</td>\n",
       "    </tr>\n",
       "    <tr>\n",
       "      <th>3</th>\n",
       "      <td>0.0</td>\n",
       "      <td>0.0</td>\n",
       "      <td>0.0</td>\n",
       "      <td>0.0</td>\n",
       "      <td>2.0</td>\n",
       "      <td>0.0</td>\n",
       "      <td>0.0</td>\n",
       "      <td>0.0</td>\n",
       "      <td>0.0</td>\n",
       "      <td>0.0</td>\n",
       "      <td>...</td>\n",
       "      <td>0.0</td>\n",
       "      <td>0.0</td>\n",
       "      <td>0.0</td>\n",
       "      <td>0.0</td>\n",
       "      <td>0.0</td>\n",
       "      <td>0.0</td>\n",
       "      <td>0.0</td>\n",
       "      <td>0.0</td>\n",
       "      <td>0.0</td>\n",
       "      <td>0.0</td>\n",
       "    </tr>\n",
       "    <tr>\n",
       "      <th>4</th>\n",
       "      <td>0.0</td>\n",
       "      <td>0.0</td>\n",
       "      <td>0.0</td>\n",
       "      <td>0.0</td>\n",
       "      <td>0.0</td>\n",
       "      <td>0.0</td>\n",
       "      <td>0.0</td>\n",
       "      <td>0.0</td>\n",
       "      <td>0.0</td>\n",
       "      <td>0.0</td>\n",
       "      <td>...</td>\n",
       "      <td>0.0</td>\n",
       "      <td>0.0</td>\n",
       "      <td>0.0</td>\n",
       "      <td>0.0</td>\n",
       "      <td>0.0</td>\n",
       "      <td>0.0</td>\n",
       "      <td>0.0</td>\n",
       "      <td>0.0</td>\n",
       "      <td>0.0</td>\n",
       "      <td>0.0</td>\n",
       "    </tr>\n",
       "    <tr>\n",
       "      <th>...</th>\n",
       "      <td>...</td>\n",
       "      <td>...</td>\n",
       "      <td>...</td>\n",
       "      <td>...</td>\n",
       "      <td>...</td>\n",
       "      <td>...</td>\n",
       "      <td>...</td>\n",
       "      <td>...</td>\n",
       "      <td>...</td>\n",
       "      <td>...</td>\n",
       "      <td>...</td>\n",
       "      <td>...</td>\n",
       "      <td>...</td>\n",
       "      <td>...</td>\n",
       "      <td>...</td>\n",
       "      <td>...</td>\n",
       "      <td>...</td>\n",
       "      <td>...</td>\n",
       "      <td>...</td>\n",
       "      <td>...</td>\n",
       "      <td>...</td>\n",
       "    </tr>\n",
       "    <tr>\n",
       "      <th>939</th>\n",
       "      <td>0.0</td>\n",
       "      <td>0.0</td>\n",
       "      <td>0.0</td>\n",
       "      <td>0.0</td>\n",
       "      <td>0.0</td>\n",
       "      <td>0.0</td>\n",
       "      <td>0.0</td>\n",
       "      <td>0.0</td>\n",
       "      <td>0.0</td>\n",
       "      <td>0.0</td>\n",
       "      <td>...</td>\n",
       "      <td>0.0</td>\n",
       "      <td>0.0</td>\n",
       "      <td>0.0</td>\n",
       "      <td>0.0</td>\n",
       "      <td>0.0</td>\n",
       "      <td>0.0</td>\n",
       "      <td>0.0</td>\n",
       "      <td>0.0</td>\n",
       "      <td>0.0</td>\n",
       "      <td>0.0</td>\n",
       "    </tr>\n",
       "    <tr>\n",
       "      <th>940</th>\n",
       "      <td>0.0</td>\n",
       "      <td>0.0</td>\n",
       "      <td>0.0</td>\n",
       "      <td>0.0</td>\n",
       "      <td>0.0</td>\n",
       "      <td>0.0</td>\n",
       "      <td>0.0</td>\n",
       "      <td>0.0</td>\n",
       "      <td>0.0</td>\n",
       "      <td>0.0</td>\n",
       "      <td>...</td>\n",
       "      <td>0.0</td>\n",
       "      <td>0.0</td>\n",
       "      <td>0.0</td>\n",
       "      <td>0.0</td>\n",
       "      <td>0.0</td>\n",
       "      <td>0.0</td>\n",
       "      <td>0.0</td>\n",
       "      <td>0.0</td>\n",
       "      <td>0.0</td>\n",
       "      <td>0.0</td>\n",
       "    </tr>\n",
       "    <tr>\n",
       "      <th>941</th>\n",
       "      <td>0.0</td>\n",
       "      <td>0.0</td>\n",
       "      <td>0.0</td>\n",
       "      <td>0.0</td>\n",
       "      <td>0.0</td>\n",
       "      <td>0.0</td>\n",
       "      <td>0.0</td>\n",
       "      <td>0.0</td>\n",
       "      <td>0.0</td>\n",
       "      <td>0.0</td>\n",
       "      <td>...</td>\n",
       "      <td>0.0</td>\n",
       "      <td>0.0</td>\n",
       "      <td>0.0</td>\n",
       "      <td>0.0</td>\n",
       "      <td>0.0</td>\n",
       "      <td>0.0</td>\n",
       "      <td>0.0</td>\n",
       "      <td>0.0</td>\n",
       "      <td>0.0</td>\n",
       "      <td>0.0</td>\n",
       "    </tr>\n",
       "    <tr>\n",
       "      <th>942</th>\n",
       "      <td>0.0</td>\n",
       "      <td>0.0</td>\n",
       "      <td>0.0</td>\n",
       "      <td>0.0</td>\n",
       "      <td>0.0</td>\n",
       "      <td>0.0</td>\n",
       "      <td>0.0</td>\n",
       "      <td>3.0</td>\n",
       "      <td>0.0</td>\n",
       "      <td>3.0</td>\n",
       "      <td>...</td>\n",
       "      <td>0.0</td>\n",
       "      <td>0.0</td>\n",
       "      <td>0.0</td>\n",
       "      <td>0.0</td>\n",
       "      <td>0.0</td>\n",
       "      <td>0.0</td>\n",
       "      <td>0.0</td>\n",
       "      <td>0.0</td>\n",
       "      <td>0.0</td>\n",
       "      <td>0.0</td>\n",
       "    </tr>\n",
       "    <tr>\n",
       "      <th>943</th>\n",
       "      <td>0.0</td>\n",
       "      <td>0.0</td>\n",
       "      <td>0.0</td>\n",
       "      <td>0.0</td>\n",
       "      <td>0.0</td>\n",
       "      <td>2.0</td>\n",
       "      <td>0.0</td>\n",
       "      <td>0.0</td>\n",
       "      <td>0.0</td>\n",
       "      <td>0.0</td>\n",
       "      <td>...</td>\n",
       "      <td>0.0</td>\n",
       "      <td>0.0</td>\n",
       "      <td>0.0</td>\n",
       "      <td>0.0</td>\n",
       "      <td>4.0</td>\n",
       "      <td>3.0</td>\n",
       "      <td>0.0</td>\n",
       "      <td>0.0</td>\n",
       "      <td>0.0</td>\n",
       "      <td>0.0</td>\n",
       "    </tr>\n",
       "  </tbody>\n",
       "</table>\n",
       "<p>944 rows × 1664 columns</p>\n",
       "</div>"
      ],
      "text/plain": [
       "title    'Til There Was You (1997)  1-900 (1994)  101 Dalmatians (1996)  \\\n",
       "user_id                                                                   \n",
       "0                              0.0           0.0                    0.0   \n",
       "1                              0.0           0.0                    2.0   \n",
       "2                              0.0           0.0                    0.0   \n",
       "3                              0.0           0.0                    0.0   \n",
       "4                              0.0           0.0                    0.0   \n",
       "...                            ...           ...                    ...   \n",
       "939                            0.0           0.0                    0.0   \n",
       "940                            0.0           0.0                    0.0   \n",
       "941                            0.0           0.0                    0.0   \n",
       "942                            0.0           0.0                    0.0   \n",
       "943                            0.0           0.0                    0.0   \n",
       "\n",
       "title    12 Angry Men (1957)  187 (1997)  2 Days in the Valley (1996)  \\\n",
       "user_id                                                                 \n",
       "0                        0.0         0.0                          0.0   \n",
       "1                        5.0         0.0                          0.0   \n",
       "2                        0.0         0.0                          0.0   \n",
       "3                        0.0         2.0                          0.0   \n",
       "4                        0.0         0.0                          0.0   \n",
       "...                      ...         ...                          ...   \n",
       "939                      0.0         0.0                          0.0   \n",
       "940                      0.0         0.0                          0.0   \n",
       "941                      0.0         0.0                          0.0   \n",
       "942                      0.0         0.0                          0.0   \n",
       "943                      0.0         0.0                          2.0   \n",
       "\n",
       "title    20,000 Leagues Under the Sea (1954)  2001: A Space Odyssey (1968)  \\\n",
       "user_id                                                                      \n",
       "0                                        0.0                           0.0   \n",
       "1                                        3.0                           4.0   \n",
       "2                                        0.0                           0.0   \n",
       "3                                        0.0                           0.0   \n",
       "4                                        0.0                           0.0   \n",
       "...                                      ...                           ...   \n",
       "939                                      0.0                           0.0   \n",
       "940                                      0.0                           0.0   \n",
       "941                                      0.0                           0.0   \n",
       "942                                      0.0                           3.0   \n",
       "943                                      0.0                           0.0   \n",
       "\n",
       "title    3 Ninjas: High Noon At Mega Mountain (1998)  39 Steps, The (1935)  \\\n",
       "user_id                                                                      \n",
       "0                                                0.0                   0.0   \n",
       "1                                                0.0                   0.0   \n",
       "2                                                1.0                   0.0   \n",
       "3                                                0.0                   0.0   \n",
       "4                                                0.0                   0.0   \n",
       "...                                              ...                   ...   \n",
       "939                                              0.0                   0.0   \n",
       "940                                              0.0                   0.0   \n",
       "941                                              0.0                   0.0   \n",
       "942                                              0.0                   3.0   \n",
       "943                                              0.0                   0.0   \n",
       "\n",
       "title    ...  Yankee Zulu (1994)  Year of the Horse (1997)  \\\n",
       "user_id  ...                                                 \n",
       "0        ...                 0.0                       0.0   \n",
       "1        ...                 0.0                       0.0   \n",
       "2        ...                 0.0                       0.0   \n",
       "3        ...                 0.0                       0.0   \n",
       "4        ...                 0.0                       0.0   \n",
       "...      ...                 ...                       ...   \n",
       "939      ...                 0.0                       0.0   \n",
       "940      ...                 0.0                       0.0   \n",
       "941      ...                 0.0                       0.0   \n",
       "942      ...                 0.0                       0.0   \n",
       "943      ...                 0.0                       0.0   \n",
       "\n",
       "title    You So Crazy (1994)  Young Frankenstein (1974)  Young Guns (1988)  \\\n",
       "user_id                                                                      \n",
       "0                        0.0                        0.0                0.0   \n",
       "1                        0.0                        5.0                3.0   \n",
       "2                        0.0                        0.0                0.0   \n",
       "3                        0.0                        0.0                0.0   \n",
       "4                        0.0                        0.0                0.0   \n",
       "...                      ...                        ...                ...   \n",
       "939                      0.0                        0.0                0.0   \n",
       "940                      0.0                        0.0                0.0   \n",
       "941                      0.0                        0.0                0.0   \n",
       "942                      0.0                        0.0                0.0   \n",
       "943                      0.0                        0.0                4.0   \n",
       "\n",
       "title    Young Guns II (1990)  Young Poisoner's Handbook, The (1995)  \\\n",
       "user_id                                                                \n",
       "0                         0.0                                    0.0   \n",
       "1                         0.0                                    0.0   \n",
       "2                         0.0                                    0.0   \n",
       "3                         0.0                                    0.0   \n",
       "4                         0.0                                    0.0   \n",
       "...                       ...                                    ...   \n",
       "939                       0.0                                    0.0   \n",
       "940                       0.0                                    0.0   \n",
       "941                       0.0                                    0.0   \n",
       "942                       0.0                                    0.0   \n",
       "943                       3.0                                    0.0   \n",
       "\n",
       "title    Zeus and Roxanne (1997)  unknown  Á köldum klaka (Cold Fever) (1994)  \n",
       "user_id                                                                        \n",
       "0                            0.0      0.0                                 0.0  \n",
       "1                            0.0      4.0                                 0.0  \n",
       "2                            0.0      0.0                                 0.0  \n",
       "3                            0.0      0.0                                 0.0  \n",
       "4                            0.0      0.0                                 0.0  \n",
       "...                          ...      ...                                 ...  \n",
       "939                          0.0      0.0                                 0.0  \n",
       "940                          0.0      0.0                                 0.0  \n",
       "941                          0.0      0.0                                 0.0  \n",
       "942                          0.0      0.0                                 0.0  \n",
       "943                          0.0      0.0                                 0.0  \n",
       "\n",
       "[944 rows x 1664 columns]"
      ]
     },
     "execution_count": 149,
     "metadata": {},
     "output_type": "execute_result"
    }
   ],
   "source": [
    "user_item"
   ]
  },
  {
   "cell_type": "markdown",
   "id": "ca3c675e",
   "metadata": {},
   "source": [
    "Finding pairwise distances"
   ]
  },
  {
   "cell_type": "code",
   "execution_count": 151,
   "id": "3fc64293",
   "metadata": {},
   "outputs": [],
   "source": [
    "from sklearn.metrics.pairwise import pairwise_distances\n",
    "user_similarity = pairwise_distances(user_item, metric='cosine')\n",
    "item_similarity = pairwise_distances(user_item.T, metric='cosine')"
   ]
  },
  {
   "cell_type": "code",
   "execution_count": 152,
   "id": "4f5b931f",
   "metadata": {},
   "outputs": [],
   "source": [
    "#sum of absolute value of similarities between items\n",
    "abs_item_similarity=np.abs(item_similarity).sum(axis=1)\n",
    "# sum of absolute value of similarities between users\n",
    "abs_user_similarity=np.array([np.abs(user_similarity).sum(axis=1)]).T"
   ]
  },
  {
   "cell_type": "markdown",
   "id": "f0d64c12",
   "metadata": {},
   "source": [
    "### item-user "
   ]
  },
  {
   "cell_type": "markdown",
   "id": "bd28b4ed",
   "metadata": {},
   "source": [
    "average rating by our user+(sum of ratings for our item by all users (corrected by average rate by that user) weighted by similarity between users/ sum of absolute value of similarities between users"
   ]
  },
  {
   "cell_type": "code",
   "execution_count": 153,
   "id": "80221d66",
   "metadata": {},
   "outputs": [
    {
     "name": "stderr",
     "output_type": "stream",
     "text": [
      "<ipython-input-153-d4bcb74c79f8>:2: FutureWarning: Support for multi-dimensional indexing (e.g. `obj[:, None]`) is deprecated and will be removed in a future version.  Convert to a numpy array before indexing instead.\n",
      "  ratings_diff=user_item-mean_ratings[:, np.newaxis]#np.newaxis turns array to vector\n"
     ]
    }
   ],
   "source": [
    "mean_ratings = user_item.mean(axis=1)\n",
    "ratings_diff=user_item-mean_ratings[:, np.newaxis]#np.newaxis turns array to vector"
   ]
  },
  {
   "cell_type": "code",
   "execution_count": 154,
   "id": "58ea7466",
   "metadata": {},
   "outputs": [
    {
     "name": "stderr",
     "output_type": "stream",
     "text": [
      "<ipython-input-154-d7190ef29358>:1: FutureWarning: Support for multi-dimensional indexing (e.g. `obj[:, None]`) is deprecated and will be removed in a future version.  Convert to a numpy array before indexing instead.\n",
      "  user_prediction= mean_ratings[:, np.newaxis]+ user_similarity.dot(ratings_diff)/abs_user_similarity\n"
     ]
    }
   ],
   "source": [
    "user_prediction= mean_ratings[:, np.newaxis]+ user_similarity.dot(ratings_diff)/abs_user_similarity"
   ]
  },
  {
   "cell_type": "code",
   "execution_count": 155,
   "id": "720e83d2",
   "metadata": {},
   "outputs": [
    {
     "data": {
      "text/plain": [
       "array([[-0.19178156, -0.20064647,  0.11564345, ..., -0.20042867,\n",
       "        -0.18168457, -0.21139798],\n",
       "       [ 0.41316573,  0.40587074,  0.69594214, ...,  0.40659662,\n",
       "         0.41805579,  0.39552941],\n",
       "       [-0.07143736, -0.07823743,  0.24559977, ..., -0.07934465,\n",
       "        -0.05955649, -0.08990026],\n",
       "       ...,\n",
       "       [-0.14817889, -0.15638217,  0.1556521 , ..., -0.15720604,\n",
       "        -0.13884381, -0.16728084],\n",
       "       [ 0.0076182 ,  0.00113696,  0.31516178, ...,  0.0007851 ,\n",
       "         0.01914288, -0.01048955],\n",
       "       [ 0.16659873,  0.15999883,  0.44822394, ...,  0.1601746 ,\n",
       "         0.17498429,  0.14945843]])"
      ]
     },
     "execution_count": 155,
     "metadata": {},
     "output_type": "execute_result"
    }
   ],
   "source": [
    "user_prediction"
   ]
  },
  {
   "cell_type": "markdown",
   "id": "402c6006",
   "metadata": {},
   "source": [
    "### item-item"
   ]
  },
  {
   "cell_type": "markdown",
   "id": "60fc627d",
   "metadata": {},
   "source": [
    "sum of ratings for all items by our user weighted by similarity between items / sum of absolute value of similarities between items"
   ]
  },
  {
   "cell_type": "code",
   "execution_count": 156,
   "id": "e9fbdade",
   "metadata": {},
   "outputs": [],
   "source": [
    "item_prediction =user_item.dot(item_similarity) / abs_item_similarity "
   ]
  },
  {
   "cell_type": "code",
   "execution_count": 157,
   "id": "3d604229",
   "metadata": {},
   "outputs": [
    {
     "data": {
      "text/html": [
       "<div>\n",
       "<style scoped>\n",
       "    .dataframe tbody tr th:only-of-type {\n",
       "        vertical-align: middle;\n",
       "    }\n",
       "\n",
       "    .dataframe tbody tr th {\n",
       "        vertical-align: top;\n",
       "    }\n",
       "\n",
       "    .dataframe thead th {\n",
       "        text-align: right;\n",
       "    }\n",
       "</style>\n",
       "<table border=\"1\" class=\"dataframe\">\n",
       "  <thead>\n",
       "    <tr style=\"text-align: right;\">\n",
       "      <th></th>\n",
       "      <th>0</th>\n",
       "      <th>1</th>\n",
       "      <th>2</th>\n",
       "      <th>3</th>\n",
       "      <th>4</th>\n",
       "      <th>5</th>\n",
       "      <th>6</th>\n",
       "      <th>7</th>\n",
       "      <th>8</th>\n",
       "      <th>9</th>\n",
       "      <th>...</th>\n",
       "      <th>1654</th>\n",
       "      <th>1655</th>\n",
       "      <th>1656</th>\n",
       "      <th>1657</th>\n",
       "      <th>1658</th>\n",
       "      <th>1659</th>\n",
       "      <th>1660</th>\n",
       "      <th>1661</th>\n",
       "      <th>1662</th>\n",
       "      <th>1663</th>\n",
       "    </tr>\n",
       "    <tr>\n",
       "      <th>user_id</th>\n",
       "      <th></th>\n",
       "      <th></th>\n",
       "      <th></th>\n",
       "      <th></th>\n",
       "      <th></th>\n",
       "      <th></th>\n",
       "      <th></th>\n",
       "      <th></th>\n",
       "      <th></th>\n",
       "      <th></th>\n",
       "      <th></th>\n",
       "      <th></th>\n",
       "      <th></th>\n",
       "      <th></th>\n",
       "      <th></th>\n",
       "      <th></th>\n",
       "      <th></th>\n",
       "      <th></th>\n",
       "      <th></th>\n",
       "      <th></th>\n",
       "      <th></th>\n",
       "    </tr>\n",
       "  </thead>\n",
       "  <tbody>\n",
       "    <tr>\n",
       "      <th>0</th>\n",
       "      <td>0.006518</td>\n",
       "      <td>0.006606</td>\n",
       "      <td>0.005067</td>\n",
       "      <td>0.004539</td>\n",
       "      <td>0.006404</td>\n",
       "      <td>0.005611</td>\n",
       "      <td>0.004770</td>\n",
       "      <td>0.003394</td>\n",
       "      <td>0.006530</td>\n",
       "      <td>0.005312</td>\n",
       "      <td>...</td>\n",
       "      <td>0.006710</td>\n",
       "      <td>0.006505</td>\n",
       "      <td>0.006394</td>\n",
       "      <td>0.003782</td>\n",
       "      <td>0.004540</td>\n",
       "      <td>0.005465</td>\n",
       "      <td>0.006198</td>\n",
       "      <td>0.006547</td>\n",
       "      <td>0.006285</td>\n",
       "      <td>0.006781</td>\n",
       "    </tr>\n",
       "    <tr>\n",
       "      <th>1</th>\n",
       "      <td>0.575706</td>\n",
       "      <td>0.583374</td>\n",
       "      <td>0.528821</td>\n",
       "      <td>0.494849</td>\n",
       "      <td>0.579666</td>\n",
       "      <td>0.524336</td>\n",
       "      <td>0.502765</td>\n",
       "      <td>0.445459</td>\n",
       "      <td>0.583263</td>\n",
       "      <td>0.533184</td>\n",
       "      <td>...</td>\n",
       "      <td>0.606340</td>\n",
       "      <td>0.581346</td>\n",
       "      <td>0.576367</td>\n",
       "      <td>0.456190</td>\n",
       "      <td>0.486805</td>\n",
       "      <td>0.534170</td>\n",
       "      <td>0.559142</td>\n",
       "      <td>0.589647</td>\n",
       "      <td>0.549176</td>\n",
       "      <td>0.600070</td>\n",
       "    </tr>\n",
       "    <tr>\n",
       "      <th>2</th>\n",
       "      <td>0.129569</td>\n",
       "      <td>0.137407</td>\n",
       "      <td>0.125350</td>\n",
       "      <td>0.127855</td>\n",
       "      <td>0.125562</td>\n",
       "      <td>0.119412</td>\n",
       "      <td>0.135650</td>\n",
       "      <td>0.125294</td>\n",
       "      <td>0.127398</td>\n",
       "      <td>0.133060</td>\n",
       "      <td>...</td>\n",
       "      <td>0.143962</td>\n",
       "      <td>0.133371</td>\n",
       "      <td>0.135631</td>\n",
       "      <td>0.128851</td>\n",
       "      <td>0.133374</td>\n",
       "      <td>0.135855</td>\n",
       "      <td>0.128361</td>\n",
       "      <td>0.134855</td>\n",
       "      <td>0.133032</td>\n",
       "      <td>0.137008</td>\n",
       "    </tr>\n",
       "    <tr>\n",
       "      <th>3</th>\n",
       "      <td>0.085212</td>\n",
       "      <td>0.089023</td>\n",
       "      <td>0.089181</td>\n",
       "      <td>0.089285</td>\n",
       "      <td>0.075612</td>\n",
       "      <td>0.084235</td>\n",
       "      <td>0.092067</td>\n",
       "      <td>0.088609</td>\n",
       "      <td>0.086230</td>\n",
       "      <td>0.090553</td>\n",
       "      <td>...</td>\n",
       "      <td>0.093043</td>\n",
       "      <td>0.085650</td>\n",
       "      <td>0.088306</td>\n",
       "      <td>0.092211</td>\n",
       "      <td>0.089475</td>\n",
       "      <td>0.089918</td>\n",
       "      <td>0.084566</td>\n",
       "      <td>0.090070</td>\n",
       "      <td>0.086145</td>\n",
       "      <td>0.090505</td>\n",
       "    </tr>\n",
       "    <tr>\n",
       "      <th>4</th>\n",
       "      <td>0.060866</td>\n",
       "      <td>0.063606</td>\n",
       "      <td>0.060408</td>\n",
       "      <td>0.061048</td>\n",
       "      <td>0.056135</td>\n",
       "      <td>0.058822</td>\n",
       "      <td>0.061945</td>\n",
       "      <td>0.058966</td>\n",
       "      <td>0.061158</td>\n",
       "      <td>0.062910</td>\n",
       "      <td>...</td>\n",
       "      <td>0.065019</td>\n",
       "      <td>0.060363</td>\n",
       "      <td>0.062354</td>\n",
       "      <td>0.061056</td>\n",
       "      <td>0.059673</td>\n",
       "      <td>0.061196</td>\n",
       "      <td>0.059957</td>\n",
       "      <td>0.063040</td>\n",
       "      <td>0.061199</td>\n",
       "      <td>0.064254</td>\n",
       "    </tr>\n",
       "    <tr>\n",
       "      <th>...</th>\n",
       "      <td>...</td>\n",
       "      <td>...</td>\n",
       "      <td>...</td>\n",
       "      <td>...</td>\n",
       "      <td>...</td>\n",
       "      <td>...</td>\n",
       "      <td>...</td>\n",
       "      <td>...</td>\n",
       "      <td>...</td>\n",
       "      <td>...</td>\n",
       "      <td>...</td>\n",
       "      <td>...</td>\n",
       "      <td>...</td>\n",
       "      <td>...</td>\n",
       "      <td>...</td>\n",
       "      <td>...</td>\n",
       "      <td>...</td>\n",
       "      <td>...</td>\n",
       "      <td>...</td>\n",
       "      <td>...</td>\n",
       "      <td>...</td>\n",
       "    </tr>\n",
       "    <tr>\n",
       "      <th>939</th>\n",
       "      <td>0.119047</td>\n",
       "      <td>0.125913</td>\n",
       "      <td>0.103458</td>\n",
       "      <td>0.121061</td>\n",
       "      <td>0.119197</td>\n",
       "      <td>0.107866</td>\n",
       "      <td>0.121283</td>\n",
       "      <td>0.115639</td>\n",
       "      <td>0.124672</td>\n",
       "      <td>0.125283</td>\n",
       "      <td>...</td>\n",
       "      <td>0.132549</td>\n",
       "      <td>0.123762</td>\n",
       "      <td>0.123606</td>\n",
       "      <td>0.116963</td>\n",
       "      <td>0.116569</td>\n",
       "      <td>0.120485</td>\n",
       "      <td>0.120852</td>\n",
       "      <td>0.119717</td>\n",
       "      <td>0.122276</td>\n",
       "      <td>0.129484</td>\n",
       "    </tr>\n",
       "    <tr>\n",
       "      <th>940</th>\n",
       "      <td>0.215104</td>\n",
       "      <td>0.222596</td>\n",
       "      <td>0.201184</td>\n",
       "      <td>0.184163</td>\n",
       "      <td>0.213845</td>\n",
       "      <td>0.197755</td>\n",
       "      <td>0.192111</td>\n",
       "      <td>0.163602</td>\n",
       "      <td>0.217649</td>\n",
       "      <td>0.196787</td>\n",
       "      <td>...</td>\n",
       "      <td>0.229001</td>\n",
       "      <td>0.217516</td>\n",
       "      <td>0.218973</td>\n",
       "      <td>0.170587</td>\n",
       "      <td>0.190756</td>\n",
       "      <td>0.207042</td>\n",
       "      <td>0.211618</td>\n",
       "      <td>0.223569</td>\n",
       "      <td>0.215363</td>\n",
       "      <td>0.227405</td>\n",
       "    </tr>\n",
       "    <tr>\n",
       "      <th>941</th>\n",
       "      <td>0.051693</td>\n",
       "      <td>0.053476</td>\n",
       "      <td>0.046024</td>\n",
       "      <td>0.048367</td>\n",
       "      <td>0.050363</td>\n",
       "      <td>0.043277</td>\n",
       "      <td>0.049834</td>\n",
       "      <td>0.044155</td>\n",
       "      <td>0.053227</td>\n",
       "      <td>0.051654</td>\n",
       "      <td>...</td>\n",
       "      <td>0.056894</td>\n",
       "      <td>0.053422</td>\n",
       "      <td>0.052483</td>\n",
       "      <td>0.045932</td>\n",
       "      <td>0.047315</td>\n",
       "      <td>0.049979</td>\n",
       "      <td>0.048212</td>\n",
       "      <td>0.052814</td>\n",
       "      <td>0.050566</td>\n",
       "      <td>0.055494</td>\n",
       "    </tr>\n",
       "    <tr>\n",
       "      <th>942</th>\n",
       "      <td>0.193676</td>\n",
       "      <td>0.201069</td>\n",
       "      <td>0.182039</td>\n",
       "      <td>0.162183</td>\n",
       "      <td>0.194110</td>\n",
       "      <td>0.186603</td>\n",
       "      <td>0.168309</td>\n",
       "      <td>0.147931</td>\n",
       "      <td>0.195593</td>\n",
       "      <td>0.167657</td>\n",
       "      <td>...</td>\n",
       "      <td>0.206869</td>\n",
       "      <td>0.195800</td>\n",
       "      <td>0.196507</td>\n",
       "      <td>0.158248</td>\n",
       "      <td>0.179530</td>\n",
       "      <td>0.191395</td>\n",
       "      <td>0.196075</td>\n",
       "      <td>0.200055</td>\n",
       "      <td>0.196410</td>\n",
       "      <td>0.205773</td>\n",
       "    </tr>\n",
       "    <tr>\n",
       "      <th>943</th>\n",
       "      <td>0.333158</td>\n",
       "      <td>0.344472</td>\n",
       "      <td>0.300361</td>\n",
       "      <td>0.290107</td>\n",
       "      <td>0.338312</td>\n",
       "      <td>0.292910</td>\n",
       "      <td>0.284186</td>\n",
       "      <td>0.259822</td>\n",
       "      <td>0.342764</td>\n",
       "      <td>0.315329</td>\n",
       "      <td>...</td>\n",
       "      <td>0.349872</td>\n",
       "      <td>0.344056</td>\n",
       "      <td>0.334163</td>\n",
       "      <td>0.262296</td>\n",
       "      <td>0.251352</td>\n",
       "      <td>0.283020</td>\n",
       "      <td>0.329936</td>\n",
       "      <td>0.345420</td>\n",
       "      <td>0.326469</td>\n",
       "      <td>0.355819</td>\n",
       "    </tr>\n",
       "  </tbody>\n",
       "</table>\n",
       "<p>944 rows × 1664 columns</p>\n",
       "</div>"
      ],
      "text/plain": [
       "             0         1         2         3         4         5         6     \\\n",
       "user_id                                                                         \n",
       "0        0.006518  0.006606  0.005067  0.004539  0.006404  0.005611  0.004770   \n",
       "1        0.575706  0.583374  0.528821  0.494849  0.579666  0.524336  0.502765   \n",
       "2        0.129569  0.137407  0.125350  0.127855  0.125562  0.119412  0.135650   \n",
       "3        0.085212  0.089023  0.089181  0.089285  0.075612  0.084235  0.092067   \n",
       "4        0.060866  0.063606  0.060408  0.061048  0.056135  0.058822  0.061945   \n",
       "...           ...       ...       ...       ...       ...       ...       ...   \n",
       "939      0.119047  0.125913  0.103458  0.121061  0.119197  0.107866  0.121283   \n",
       "940      0.215104  0.222596  0.201184  0.184163  0.213845  0.197755  0.192111   \n",
       "941      0.051693  0.053476  0.046024  0.048367  0.050363  0.043277  0.049834   \n",
       "942      0.193676  0.201069  0.182039  0.162183  0.194110  0.186603  0.168309   \n",
       "943      0.333158  0.344472  0.300361  0.290107  0.338312  0.292910  0.284186   \n",
       "\n",
       "             7         8         9     ...      1654      1655      1656  \\\n",
       "user_id                                ...                                 \n",
       "0        0.003394  0.006530  0.005312  ...  0.006710  0.006505  0.006394   \n",
       "1        0.445459  0.583263  0.533184  ...  0.606340  0.581346  0.576367   \n",
       "2        0.125294  0.127398  0.133060  ...  0.143962  0.133371  0.135631   \n",
       "3        0.088609  0.086230  0.090553  ...  0.093043  0.085650  0.088306   \n",
       "4        0.058966  0.061158  0.062910  ...  0.065019  0.060363  0.062354   \n",
       "...           ...       ...       ...  ...       ...       ...       ...   \n",
       "939      0.115639  0.124672  0.125283  ...  0.132549  0.123762  0.123606   \n",
       "940      0.163602  0.217649  0.196787  ...  0.229001  0.217516  0.218973   \n",
       "941      0.044155  0.053227  0.051654  ...  0.056894  0.053422  0.052483   \n",
       "942      0.147931  0.195593  0.167657  ...  0.206869  0.195800  0.196507   \n",
       "943      0.259822  0.342764  0.315329  ...  0.349872  0.344056  0.334163   \n",
       "\n",
       "             1657      1658      1659      1660      1661      1662      1663  \n",
       "user_id                                                                        \n",
       "0        0.003782  0.004540  0.005465  0.006198  0.006547  0.006285  0.006781  \n",
       "1        0.456190  0.486805  0.534170  0.559142  0.589647  0.549176  0.600070  \n",
       "2        0.128851  0.133374  0.135855  0.128361  0.134855  0.133032  0.137008  \n",
       "3        0.092211  0.089475  0.089918  0.084566  0.090070  0.086145  0.090505  \n",
       "4        0.061056  0.059673  0.061196  0.059957  0.063040  0.061199  0.064254  \n",
       "...           ...       ...       ...       ...       ...       ...       ...  \n",
       "939      0.116963  0.116569  0.120485  0.120852  0.119717  0.122276  0.129484  \n",
       "940      0.170587  0.190756  0.207042  0.211618  0.223569  0.215363  0.227405  \n",
       "941      0.045932  0.047315  0.049979  0.048212  0.052814  0.050566  0.055494  \n",
       "942      0.158248  0.179530  0.191395  0.196075  0.200055  0.196410  0.205773  \n",
       "943      0.262296  0.251352  0.283020  0.329936  0.345420  0.326469  0.355819  \n",
       "\n",
       "[944 rows x 1664 columns]"
      ]
     },
     "execution_count": 157,
     "metadata": {},
     "output_type": "execute_result"
    }
   ],
   "source": [
    "item_prediction"
   ]
  },
  {
   "cell_type": "markdown",
   "id": "5f541153",
   "metadata": {},
   "source": [
    "### Model-based Collaborative Filtering"
   ]
  },
  {
   "cell_type": "code",
   "execution_count": 45,
   "id": "64564fd4",
   "metadata": {},
   "outputs": [],
   "source": [
    "from surprise import Reader, Dataset, accuracy\n",
    "from surprise import SVD, NMF\n",
    "from surprise.model_selection import cross_validate,train_test_split"
   ]
  },
  {
   "cell_type": "code",
   "execution_count": 7,
   "id": "3ca6e0cd",
   "metadata": {},
   "outputs": [],
   "source": [
    "reader = Reader()"
   ]
  },
  {
   "cell_type": "code",
   "execution_count": 36,
   "id": "a960e579",
   "metadata": {},
   "outputs": [],
   "source": [
    "data = Dataset.load_from_df(movies[['user_id','item_id','rating']],reader)"
   ]
  },
  {
   "cell_type": "code",
   "execution_count": 39,
   "id": "fc38f716",
   "metadata": {},
   "outputs": [],
   "source": [
    "trainset, testset = train_test_split(data, test_size=.25)"
   ]
  },
  {
   "cell_type": "markdown",
   "id": "76fc7ad6",
   "metadata": {},
   "source": [
    "### singular value decomposition"
   ]
  },
  {
   "cell_type": "code",
   "execution_count": 12,
   "id": "4ff3a8ff",
   "metadata": {},
   "outputs": [],
   "source": [
    "model= SVD()"
   ]
  },
  {
   "cell_type": "code",
   "execution_count": 13,
   "id": "7f2e6cca",
   "metadata": {},
   "outputs": [
    {
     "name": "stdout",
     "output_type": "stream",
     "text": [
      "Evaluating RMSE, MAE of algorithm SVD on 5 split(s).\n",
      "\n",
      "                  Fold 1  Fold 2  Fold 3  Fold 4  Fold 5  Mean    Std     \n",
      "RMSE (testset)    0.9409  0.9420  0.9360  0.9328  0.9263  0.9356  0.0057  \n",
      "MAE (testset)     0.7407  0.7417  0.7401  0.7335  0.7326  0.7377  0.0039  \n",
      "Fit time          4.06    4.13    4.09    4.21    4.12    4.12    0.05    \n",
      "Test time         0.14    0.20    0.12    0.12    0.12    0.14    0.03    \n"
     ]
    },
    {
     "data": {
      "text/plain": [
       "{'test_rmse': array([0.94089798, 0.94200421, 0.93600044, 0.93276152, 0.9262786 ]),\n",
       " 'test_mae': array([0.7407351 , 0.74165959, 0.7401268 , 0.73352845, 0.73257204]),\n",
       " 'fit_time': (4.0562803745269775,\n",
       "  4.129735708236694,\n",
       "  4.092965841293335,\n",
       "  4.211654186248779,\n",
       "  4.1166791915893555),\n",
       " 'test_time': (0.14027976989746094,\n",
       "  0.19530272483825684,\n",
       "  0.11961674690246582,\n",
       "  0.11608481407165527,\n",
       "  0.11812949180603027)}"
      ]
     },
     "execution_count": 13,
     "metadata": {},
     "output_type": "execute_result"
    }
   ],
   "source": [
    "cross_validate(model, data, measures=['RMSE', 'MAE'], cv=5,verbose=True)"
   ]
  },
  {
   "cell_type": "code",
   "execution_count": 42,
   "id": "75e1e666",
   "metadata": {},
   "outputs": [
    {
     "data": {
      "text/plain": [
       "<surprise.prediction_algorithms.matrix_factorization.SVD at 0x21f12b7ec70>"
      ]
     },
     "execution_count": 42,
     "metadata": {},
     "output_type": "execute_result"
    }
   ],
   "source": [
    "model.fit(trainset)"
   ]
  },
  {
   "cell_type": "code",
   "execution_count": 43,
   "id": "9be7f399",
   "metadata": {},
   "outputs": [],
   "source": [
    "predictions = model.test(testset)"
   ]
  },
  {
   "cell_type": "code",
   "execution_count": 46,
   "id": "bee509a1",
   "metadata": {},
   "outputs": [
    {
     "name": "stdout",
     "output_type": "stream",
     "text": [
      "RMSE: 0.9456\n"
     ]
    },
    {
     "data": {
      "text/plain": [
       "0.9455656207980667"
      ]
     },
     "execution_count": 46,
     "metadata": {},
     "output_type": "execute_result"
    }
   ],
   "source": [
    "accuracy.rmse(predictions)"
   ]
  },
  {
   "cell_type": "markdown",
   "id": "9051a9aa",
   "metadata": {},
   "source": [
    "For example if we want to predict user 1's rate for item 2"
   ]
  },
  {
   "cell_type": "code",
   "execution_count": null,
   "id": "bfe6a9a1",
   "metadata": {},
   "outputs": [],
   "source": [
    "model.predict(uid=<1>, iid=<2>)"
   ]
  },
  {
   "cell_type": "markdown",
   "id": "690c5250",
   "metadata": {},
   "source": [
    "### non-negative matrix factorization"
   ]
  },
  {
   "cell_type": "code",
   "execution_count": 48,
   "id": "bf03f7fa",
   "metadata": {},
   "outputs": [
    {
     "name": "stdout",
     "output_type": "stream",
     "text": [
      "Evaluating RMSE, MAE of algorithm NMF on 5 split(s).\n",
      "\n",
      "                  Fold 1  Fold 2  Fold 3  Fold 4  Fold 5  Mean    Std     \n",
      "RMSE (testset)    0.9696  0.9623  0.9574  0.9645  0.9620  0.9631  0.0040  \n",
      "MAE (testset)     0.7615  0.7568  0.7531  0.7577  0.7564  0.7571  0.0027  \n",
      "Fit time          4.83    4.88    4.76    4.69    4.79    4.79    0.06    \n",
      "Test time         0.14    0.10    0.10    0.17    0.11    0.12    0.03    \n"
     ]
    },
    {
     "data": {
      "text/plain": [
       "{'test_rmse': array([0.96957048, 0.9623001 , 0.95736701, 0.96445484, 0.96200664]),\n",
       " 'test_mae': array([0.76147082, 0.75683968, 0.75309999, 0.75770987, 0.75642778]),\n",
       " 'fit_time': (4.830271005630493,\n",
       "  4.877192735671997,\n",
       "  4.756935119628906,\n",
       "  4.687757730484009,\n",
       "  4.788372278213501),\n",
       " 'test_time': (0.1362316608428955,\n",
       "  0.09826922416687012,\n",
       "  0.09809517860412598,\n",
       "  0.1676926612854004,\n",
       "  0.10544180870056152)}"
      ]
     },
     "execution_count": 48,
     "metadata": {},
     "output_type": "execute_result"
    }
   ],
   "source": [
    "model2 = NMF()\n",
    "cross_validate(model2, data, measures=['RMSE', 'MAE'], cv=5,verbose=True)"
   ]
  },
  {
   "cell_type": "code",
   "execution_count": 49,
   "id": "1b16cd88",
   "metadata": {},
   "outputs": [
    {
     "data": {
      "text/plain": [
       "<surprise.prediction_algorithms.matrix_factorization.NMF at 0x21f198f85b0>"
      ]
     },
     "execution_count": 49,
     "metadata": {},
     "output_type": "execute_result"
    }
   ],
   "source": [
    "model2.fit(trainset)"
   ]
  },
  {
   "cell_type": "code",
   "execution_count": 50,
   "id": "c8c2b77c",
   "metadata": {},
   "outputs": [
    {
     "name": "stdout",
     "output_type": "stream",
     "text": [
      "RMSE: 0.9701\n"
     ]
    },
    {
     "data": {
      "text/plain": [
       "0.9700800352508314"
      ]
     },
     "execution_count": 50,
     "metadata": {},
     "output_type": "execute_result"
    }
   ],
   "source": [
    "predictions = model2.test(testset)\n",
    "accuracy.rmse(predictions)"
   ]
  }
 ],
 "metadata": {
  "kernelspec": {
   "display_name": "Python 3",
   "language": "python",
   "name": "python3"
  },
  "language_info": {
   "codemirror_mode": {
    "name": "ipython",
    "version": 3
   },
   "file_extension": ".py",
   "mimetype": "text/x-python",
   "name": "python",
   "nbconvert_exporter": "python",
   "pygments_lexer": "ipython3",
   "version": "3.8.8"
  }
 },
 "nbformat": 4,
 "nbformat_minor": 5
}
